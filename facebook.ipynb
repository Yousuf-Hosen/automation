{
 "cells": [
  {
   "cell_type": "code",
   "execution_count": 1,
   "metadata": {},
   "outputs": [],
   "source": [
    "import facebook as fb"
   ]
  },
  {
   "cell_type": "code",
   "execution_count": 8,
   "metadata": {},
   "outputs": [],
   "source": [
    "token=\"EAAMBqdPBjcoBO1vRREfJf7aPOOlOL2NZCI7DGnDxCbXeN2qIL8uaa3RESbxBZC9Iol4CZA5gfigW8Cd8Cnx0k3j9OTu4hiZCIh4hOdcn03HsTesIDqzcBThGhO6IUsTpLwTOqgi1sHyq5ViRB15DX4ZBfZCF9YzZCKaQd9l98G3X8RSyykcyZAE87njuCiNgSj0ZD\"\n",
    "fb_obj=fb.GraphAPI(token)"
   ]
  },
  {
   "cell_type": "markdown",
   "metadata": {},
   "source": [
    "Post an status"
   ]
  },
  {
   "cell_type": "code",
   "execution_count": null,
   "metadata": {},
   "outputs": [],
   "source": [
    "hello_post=fb_obj.put_object(parent_object='me',connection_name='feed',message='How Going Today?')\n",
    "hello_post"
   ]
  },
  {
   "cell_type": "code",
   "execution_count": null,
   "metadata": {},
   "outputs": [],
   "source": [
    "# fb_obj.put_object(parent_object=image_post['id'],connection_name='comments', message='Wonderful Photo')\n",
    "#put_object(parent_object=object_id,connection_name='what do you want',messege='what do you want to comments')"
   ]
  },
  {
   "cell_type": "markdown",
   "metadata": {},
   "source": [
    "Post an photo with status"
   ]
  },
  {
   "cell_type": "code",
   "execution_count": 33,
   "metadata": {},
   "outputs": [
    {
     "data": {
      "text/plain": [
       "{'id': '122103675548173124', 'post_id': '201186766409652_122103675566173124'}"
      ]
     },
     "execution_count": 33,
     "metadata": {},
     "output_type": "execute_result"
    }
   ],
   "source": [
    "image_post2=fb_obj.put_photo(image=open(\"pro25.PNG\",'rb'),message=\"Home Page Using Python!!\") \n",
    "image_post2"
   ]
  },
  {
   "cell_type": "markdown",
   "metadata": {},
   "source": [
    "comment on  an Post"
   ]
  },
  {
   "cell_type": "code",
   "execution_count": 23,
   "metadata": {},
   "outputs": [
    {
     "data": {
      "text/plain": [
       "{'id': '122103654932173124_1418552182076184'}"
      ]
     },
     "execution_count": 23,
     "metadata": {},
     "output_type": "execute_result"
    }
   ],
   "source": [
    "fb_obj.put_object(parent_object=image_post2['id'],connection_name='comments', message='Wonderful Photo')\n"
   ]
  },
  {
   "cell_type": "markdown",
   "metadata": {},
   "source": [
    "how To get an post Id "
   ]
  },
  {
   "cell_type": "code",
   "execution_count": 24,
   "metadata": {},
   "outputs": [
    {
     "data": {
      "text/plain": [
       "{'created_time': '2024-01-04T13:30:39+0000',\n",
       " 'name': 'Home Page Using Python!!',\n",
       " 'id': '122103654932173124'}"
      ]
     },
     "execution_count": 24,
     "metadata": {},
     "output_type": "execute_result"
    }
   ],
   "source": [
    "fb_obj.get_object(image_post2['id'])"
   ]
  },
  {
   "cell_type": "markdown",
   "metadata": {},
   "source": [
    "how to find your Facbook Page or account ID"
   ]
  },
  {
   "cell_type": "code",
   "execution_count": 25,
   "metadata": {},
   "outputs": [
    {
     "data": {
      "text/plain": [
       "'201186766409652'"
      ]
     },
     "execution_count": 25,
     "metadata": {},
     "output_type": "execute_result"
    }
   ],
   "source": [
    "page_id=image_post2['post_id'].split('_')[0]\n",
    "page_id"
   ]
  },
  {
   "cell_type": "markdown",
   "metadata": {},
   "source": [
    "get all comment in the specific comment"
   ]
  },
  {
   "cell_type": "code",
   "execution_count": 32,
   "metadata": {},
   "outputs": [
    {
     "data": {
      "text/plain": [
       "{'data': [{'created_time': '2024-01-04T13:50:30+0000',\n",
       "   'from': {'name': 'Python World', 'id': '201186766409652'},\n",
       "   'message': 'Wonderful Photo',\n",
       "   'id': '122103654950173124_1418552182076184'}],\n",
       " 'paging': {'cursors': {'before': 'QVFIUlR4czFIUmd0dFRQU1EybWxmX0xqbDdYQkxwNF9hMFYzbDVTNXVLakE3c2tkX1AwYTZAvaHJjLXZAabzktOUdGQU4ZD',\n",
       "   'after': 'QVFIUlR4czFIUmd0dFRQU1EybWxmX0xqbDdYQkxwNF9hMFYzbDVTNXVLakE3c2tkX1AwYTZAvaHJjLXZAabzktOUdGQU4ZD'}}}"
      ]
     },
     "execution_count": 32,
     "metadata": {},
     "output_type": "execute_result"
    }
   ],
   "source": [
    "comments = fb_obj.get_connections(id=image_post2['id'], connection_name='comments')\n",
    "comments"
   ]
  },
  {
   "cell_type": "markdown",
   "metadata": {},
   "source": [
    "Get All comments and User who are commented in our post"
   ]
  },
  {
   "cell_type": "code",
   "execution_count": 58,
   "metadata": {},
   "outputs": [
    {
     "name": "stdout",
     "output_type": "stream",
     "text": [
      "{'id': '122096535908173124_1723663941470364'}\n",
      "{'id': '122096535908173124_1427455344867324'}\n",
      "{'id': '122096535908173124_851227870144281'}\n"
     ]
    }
   ],
   "source": [
    "for comment in comments['data']:\n",
    "    comment_id=comment['id']\n",
    "    commenter=comment['from']\n",
    "    messege=comment['message']\n",
    "    reply_meeage=\"Thanks for for your valueable comment\"\n",
    "    reply=fb_obj.put_comment(object_id=comment_id,message=reply_meeage)\n",
    "    print()\n",
    "\n",
    "        "
   ]
  },
  {
   "cell_type": "code",
   "execution_count": 60,
   "metadata": {},
   "outputs": [
    {
     "data": {
      "text/plain": [
       "{'success': True}"
      ]
     },
     "execution_count": 60,
     "metadata": {},
     "output_type": "execute_result"
    }
   ],
   "source": [
    "like_post=fb_obj.put_like(object_id=hello_post['id'])\n",
    "like_post"
   ]
  },
  {
   "cell_type": "code",
   "execution_count": 13,
   "metadata": {},
   "outputs": [
    {
     "data": {
      "text/plain": [
       "{'id': '201186766409652_122103655880173124'}"
      ]
     },
     "execution_count": 13,
     "metadata": {},
     "output_type": "execute_result"
    }
   ],
   "source": [
    "welcome_post=fb_obj.put_object(parent_object='me',connection_name='feed',message='Welcome to the  world of AI with Python!!')\n",
    "welcome_post"
   ]
  },
  {
   "cell_type": "code",
   "execution_count": 14,
   "metadata": {},
   "outputs": [
    {
     "data": {
      "text/plain": [
       "'201186766409652_122103655880173124'"
      ]
     },
     "execution_count": 14,
     "metadata": {},
     "output_type": "execute_result"
    }
   ],
   "source": [
    "welcome_post['id']"
   ]
  },
  {
   "cell_type": "code",
   "execution_count": 15,
   "metadata": {},
   "outputs": [],
   "source": [
    "page_id=welcome_post['id'].split('_')[0]"
   ]
  },
  {
   "cell_type": "code",
   "execution_count": 16,
   "metadata": {},
   "outputs": [
    {
     "data": {
      "text/plain": [
       "{'data': [{'created_time': '2024-01-04T13:32:52+0000',\n",
       "   'message': 'Welcome to the  world of AI with Python!!',\n",
       "   'id': '201186766409652_122103655880173124'},\n",
       "  {'created_time': '2024-01-04T13:30:39+0000',\n",
       "   'message': 'Home Page Using Python!!',\n",
       "   'id': '201186766409652_122103654950173124'},\n",
       "  {'created_time': '2024-01-04T13:02:56+0000',\n",
       "   'message': 'FOX',\n",
       "   'id': '201186766409652_122103640232173124'},\n",
       "  {'created_time': '2023-12-30T04:57:33+0000',\n",
       "   'message': 'The Magical World of Python!!',\n",
       "   'id': '201186766409652_122096825186173124'},\n",
       "  {'created_time': '2023-12-30T04:46:58+0000',\n",
       "   'message': 'The Magical World of Python!!',\n",
       "   'id': '201186766409652_122096817980173124'},\n",
       "  {'created_time': '2023-12-30T04:27:40+0000',\n",
       "   'message': 'Welcome to the  world of AI with Python!!',\n",
       "   'id': '201186766409652_122096808974173124'},\n",
       "  {'created_time': '2023-12-30T04:10:13+0000',\n",
       "   'message': 'try to setup as my wish😍😍',\n",
       "   'id': '201186766409652_122096800538173124'},\n",
       "  {'created_time': '2023-12-29T19:29:11+0000',\n",
       "   'story': 'Python World updated their profile picture.',\n",
       "   'id': '201186766409652_122096548838173124'}],\n",
       " 'paging': {'cursors': {'before': 'QVFIUnU4cmNSaGJFVnVyZAXVfb042TmdlMW1fanp0QmxKM1g3S0VsUnZAMX0tRcnNnbE12SDVWT3c3V2U3aDJMM0lHN3RfbkZAVQzRZAd2tReEJwT2pTbVdzcFl6MHgzUTZAvcGlFOXJFOVJrckhEM3NkWi1WSzRFelN3alphbFVYY3JIRFhLUURDRENGaEM4MkdZAVlNuRkhLLU54QmZA2dmxFTnFDcHJPLXN6YVB6bEdjLUVhNXB1ZAEFlNEU4N280ZAnJRNkVhaFpUSzhrX0RCakRrWklCZAElwRVV1U1dCa3hpVl9WSktZAbnZAxZAEY3Mkl2aVpVOG1wbjgwS2NGNmx2eXV1TE81azRoUE1NWl9yRjU2R1BOcm5YaGgtV01DbVk3dmtZAWDNDWnlfa0NNMUVBMS00VkRlZAkpsbzcwdjdvUlR0MWJpZAzFNZAmlQVUlvdTJ6RG9Ld2UyZAS1yZAm50OURkVEpzSHNiTE1ldW5SVWo0dTYwa2JYZAmNQMlIxa3UxNks1cmhsbDNMclQ3VU40cVJRSTI2WEc5eTVTMzJMWmtIM0EwSWhBblpmRHp6UFFJeWxOR1UZD',\n",
       "   'after': 'QVFIUlAwZA3gwaHgzWkRzRTlXSzdVX0NGSjR5M1RreGNmMVJWY0dkeTBadndyZAVo2bDltc005WmVlWWVxTElwXzZAhS2dZANHFTMjZAIXzhqZA25EQ3hYVzFMSlkwc0ZATa0JOYTJNYXROY1dfWWhjSTRVYWc3bVQ4eXFXeDRoM2g2SWpaSWZAndFpaSk0xVzRrdm1VWVdZAZAHdhWGRSU05NbktZASDlGQ0lDR0lrTHlNN3FfdnJ5eVlSZADBHUlk3a3dwYjJMWEsyQXhVS0xSTl9PdU16Q2t5dkpGdWpyd09lYUlHb0RBZAzE0LVVHQy1PbTIxZA0hrek91MTN2dlFJTmRSOXBIdUZAhLS1OclRvckcwajJVaVc3LVl3MWp4WC02eTRQZAEVueUxUbnU0YmpnVmRHUE0zNWJNeXNvVmZA3VlVYLXo5MUFNdnJBU09zaGk0RlJQYnl2dnh4TTU4emJBRFhzWURIVGlXaC1vaWZAkenB4a2FUaW0yM2NGS2hoT2lhRXM1TEZARVXI2eW9jbmVwTU00ME9ialItbjl0WEVJV0Yzd1l6eGo1MHc0ZAWVyWVVLQ1pia3cZD'}}}"
      ]
     },
     "execution_count": 16,
     "metadata": {},
     "output_type": "execute_result"
    }
   ],
   "source": [
    "posts=fb_obj.get_connections(id=page_id,connection_name='posts')\n",
    "posts"
   ]
  },
  {
   "cell_type": "code",
   "execution_count": 6,
   "metadata": {},
   "outputs": [
    {
     "ename": "NameError",
     "evalue": "name 'image_post' is not defined",
     "output_type": "error",
     "traceback": [
      "\u001b[1;31m---------------------------------------------------------------------------\u001b[0m",
      "\u001b[1;31mNameError\u001b[0m                                 Traceback (most recent call last)",
      "Cell \u001b[1;32mIn[6], line 1\u001b[0m\n\u001b[1;32m----> 1\u001b[0m comments \u001b[38;5;241m=\u001b[39m fb_obj\u001b[38;5;241m.\u001b[39mget_connections(\u001b[38;5;28mid\u001b[39m\u001b[38;5;241m=\u001b[39m\u001b[43mimage_post\u001b[49m[\u001b[38;5;124m'\u001b[39m\u001b[38;5;124mid\u001b[39m\u001b[38;5;124m'\u001b[39m], connection_name\u001b[38;5;241m=\u001b[39m\u001b[38;5;124m'\u001b[39m\u001b[38;5;124mcomments\u001b[39m\u001b[38;5;124m'\u001b[39m)\n\u001b[0;32m      2\u001b[0m comments\n",
      "\u001b[1;31mNameError\u001b[0m: name 'image_post' is not defined"
     ]
    }
   ],
   "source": [
    "comments = fb_obj.get_connections(id=image_post['id'], connection_name='comments')\n",
    "comments"
   ]
  },
  {
   "cell_type": "code",
   "execution_count": 13,
   "metadata": {},
   "outputs": [
    {
     "name": "stdout",
     "output_type": "stream",
     "text": [
      "Page ID:, Page_name 201186766409652 Python World\n"
     ]
    }
   ],
   "source": [
    "import facebook as fb\n",
    "\n",
    "fb_obj = fb.GraphAPI(access_token)\n",
    "page_info = fb_obj.get_object(id='me', fields='id,name')\n",
    "\n",
    "page_id = page_info.get('id')\n",
    "page_name=page_info.get('name')\n",
    "print(\"Page ID:, Page_name\", page_id,page_name)\n"
   ]
  },
  {
   "cell_type": "code",
   "execution_count": 17,
   "metadata": {},
   "outputs": [
    {
     "name": "stdout",
     "output_type": "stream",
     "text": [
      "Post ID: 201186766409652_122096825186173124\n",
      "Message: The Magical World of Python!!\n",
      "Created Time: 2023-12-30T04:57:33+0000\n",
      "-------------------------\n",
      "Post ID: 201186766409652_122096817980173124\n",
      "Message: The Magical World of Python!!\n",
      "Created Time: 2023-12-30T04:46:58+0000\n",
      "-------------------------\n",
      "Post ID: 201186766409652_122096808974173124\n",
      "Message: Welcome to the  world of AI with Python!!\n",
      "Created Time: 2023-12-30T04:27:40+0000\n",
      "-------------------------\n",
      "Post ID: 201186766409652_122096800538173124\n",
      "Message: try to setup as my wish😍😍\n",
      "Created Time: 2023-12-30T04:10:13+0000\n",
      "-------------------------\n",
      "Post ID: 201186766409652_122096548838173124\n",
      "Message: No message\n",
      "Created Time: 2023-12-29T19:29:11+0000\n",
      "-------------------------\n"
     ]
    }
   ],
   "source": [
    "import facebook as fb\n",
    "\n",
    "# Initialize the Graph API object\n",
    "fb_obj = fb.GraphAPI(access_token)\n",
    "\n",
    "# Get all posts from your Facebook page, handling pagination\n",
    "all_posts = []\n",
    "\n",
    "while True:\n",
    "    # Make a request to the 'posts' endpoint\n",
    "    posts = fb_obj.get_connections(id=page_id, connection_name='posts')\n",
    "\n",
    "    # Add the current set of posts to the overall list\n",
    "    all_posts.extend(posts.get('data', []))\n",
    "\n",
    "    # Check for pagination\n",
    "    next_page = posts.get('paging', {}).get('next')\n",
    "    if not next_page:\n",
    "        break\n",
    "\n",
    "    # If there is a next page, update the API endpoint for the next request\n",
    "    fb_obj = fb.GraphAPI(access_token, version='v18.0')  # Specify the API version\n",
    "    posts = fb_obj.get_connections(id=page_id, connection_name='posts', after=posts['paging']['cursors']['after'])\n",
    "\n",
    "# Print post details\n",
    "for post in all_posts:\n",
    "    post_id = post.get('id')\n",
    "    post_message = post.get('message', 'No message')\n",
    "    created_time = post.get('created_time', 'No created time')\n",
    "\n",
    "    print(f\"Post ID: {post_id}\")\n",
    "    print(f\"Message: {post_message}\")\n",
    "    print(f\"Created Time: {created_time}\")\n",
    "    print(\"-------------------------\")\n"
   ]
  },
  {
   "cell_type": "code",
   "execution_count": 16,
   "metadata": {},
   "outputs": [
    {
     "data": {
      "text/plain": [
       "'201186766409652_122096825186173124'"
      ]
     },
     "execution_count": 16,
     "metadata": {},
     "output_type": "execute_result"
    }
   ],
   "source": [
    "image_post=fb_obj.put_photo(image=open(\"pythoncode.jpg\",'rb'),message=\"The Magical World of Python!!\")\n",
    "image_post['post_id']"
   ]
  },
  {
   "cell_type": "code",
   "execution_count": null,
   "metadata": {},
   "outputs": [],
   "source": []
  }
 ],
 "metadata": {
  "kernelspec": {
   "display_name": "Python 3",
   "language": "python",
   "name": "python3"
  },
  "language_info": {
   "codemirror_mode": {
    "name": "ipython",
    "version": 3
   },
   "file_extension": ".py",
   "mimetype": "text/x-python",
   "name": "python",
   "nbconvert_exporter": "python",
   "pygments_lexer": "ipython3",
   "version": "3.11.2"
  }
 },
 "nbformat": 4,
 "nbformat_minor": 2
}
